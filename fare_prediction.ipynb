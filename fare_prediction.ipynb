{
 "cells": [
  {
   "cell_type": "code",
   "execution_count": 1,
   "metadata": {},
   "outputs": [],
   "source": [
    "import os\n",
    "from tqdm import tqdm\n",
    "\n",
    "import numpy as np\n",
    "import pandas as pd\n",
    "from mpl_toolkits.basemap import Basemap\n",
    "\n",
    "import matplotlib.pyplot as plt\n",
    "%matplotlib inline\n",
    "import seaborn as sns\n",
    "\n",
    "from sklearn.model_selection import train_test_split\n",
    "from sklearn.preprocessing import StandardScaler\n",
    "from sklearn.linear_model import LinearRegression\n",
    "from sklearn.ensemble import RandomForestRegressor\n",
    "\n",
    "from sklearn.metrics import mean_squared_error"
   ]
  },
  {
   "cell_type": "code",
   "execution_count": 2,
   "metadata": {},
   "outputs": [],
   "source": [
    "TRAIN_PATH = \"data/processed_data/train_df.csv\"\n",
    "TEST_PATH = \"data/processed_data/test_df.csv\"\n",
    "SUB_DIR = \"data/submission\""
   ]
  },
  {
   "cell_type": "markdown",
   "metadata": {},
   "source": [
    "# Loading data"
   ]
  },
  {
   "cell_type": "code",
   "execution_count": 3,
   "metadata": {},
   "outputs": [],
   "source": [
    "def load_nyc_taxi_fare(path, col_types, chunksize=None, \n",
    "                       datetime_format=\"%Y-%m-%d %H:%M:%S UTC\",\n",
    "                       utc=False,\n",
    "                       convert_to_timezone=None):\n",
    "    chunk_iter = pd.read_csv(path, usecols=col_types.keys(), dtype=col_types, chunksize=chunksize)\n",
    "    \n",
    "    if chunksize is None:\n",
    "        chunk_iter[\"pickup_datetime\"] = pd.to_datetime(chunk_iter[\"pickup_datetime\"], \n",
    "                                                       utc=utc, format=datetime_format)\n",
    "        # convert to different timezone\n",
    "        if convert_to_timezone is not None:\n",
    "            chunk_iter[\"pickup_datetime\"] = chunk_iter[\"pickup_datetime\"].dt.tz_convert(convert_to_timezone)\n",
    "        return chunk_iter\n",
    "    \n",
    "    df_list = []\n",
    "    # use tqdm to monitor progress\n",
    "    # It would take extremely long time if format were not used.\n",
    "    for df_chunk in tqdm(chunk_iter):\n",
    "        df_chunk[\"pickup_datetime\"] = pd.to_datetime(df_chunk[\"pickup_datetime\"], \n",
    "                                                     utc=utc, format=datetime_format)\n",
    "        # convert to different timezone\n",
    "        if convert_to_timezone is not None:\n",
    "            df_chunk[\"pickup_datetime\"] = df_chunk[\"pickup_datetime\"].dt.tz_convert(convert_to_timezone)\n",
    "        \n",
    "        df_list.append(df_chunk)\n",
    "        \n",
    "    return pd.concat(df_list)"
   ]
  },
  {
   "cell_type": "markdown",
   "metadata": {},
   "source": [
    "Do tập dữ liệu `train.csv` quá lớn sẽ làm cho model training chạy rất chậm, nên ta chỉ dùng 20% dữ liệu của tập `train`"
   ]
  },
  {
   "cell_type": "code",
   "execution_count": 4,
   "metadata": {},
   "outputs": [
    {
     "name": "stderr",
     "output_type": "stream",
     "text": [
      "11it [05:07, 27.20s/it]\n"
     ]
    },
    {
     "data": {
      "text/plain": [
       "(10850896, 7)"
      ]
     },
     "execution_count": 4,
     "metadata": {},
     "output_type": "execute_result"
    }
   ],
   "source": [
    "train_types = {\"fare_amount\": \"float32\",\n",
    "              \"pickup_datetime\": \"str\", \n",
    "              \"pickup_longitude\": \"float32\",\n",
    "              \"pickup_latitude\": \"float32\",\n",
    "              \"dropoff_longitude\": \"float32\",\n",
    "              \"dropoff_latitude\": \"float32\",\n",
    "              \"passenger_count\": \"uint8\"}\n",
    "X_train = load_nyc_taxi_fare(TRAIN_PATH, train_types, \n",
    "                              chunksize=5_000_000,\n",
    "                              datetime_format=\"%Y-%m-%d %H:%M:%S+00:00\")\n",
    "\n",
    "X_train = X_train.sample(frac=0.2, random_state=210)\n",
    "X_train.shape"
   ]
  },
  {
   "cell_type": "code",
   "execution_count": 5,
   "metadata": {},
   "outputs": [
    {
     "name": "stdout",
     "output_type": "stream",
     "text": [
      "test_types: {'pickup_datetime': 'str', 'pickup_longitude': 'float32', 'pickup_latitude': 'float32', 'dropoff_longitude': 'float32', 'dropoff_latitude': 'float32', 'passenger_count': 'uint8', 'key': 'str'}\n"
     ]
    },
    {
     "data": {
      "text/plain": [
       "(9914, 7)"
      ]
     },
     "execution_count": 5,
     "metadata": {},
     "output_type": "execute_result"
    }
   ],
   "source": [
    "test_types = train_types.copy()\n",
    "test_types.pop(\"fare_amount\")\n",
    "test_types[\"key\"] = \"str\"\n",
    "print(\"test_types:\", test_types)\n",
    "\n",
    "X_test = load_nyc_taxi_fare(TEST_PATH, test_types,\n",
    "                           datetime_format=\"%Y-%m-%d %H:%M:%S+00:00\")\n",
    "X_test.shape"
   ]
  },
  {
   "cell_type": "code",
   "execution_count": 6,
   "metadata": {},
   "outputs": [],
   "source": [
    "y_train = X_train[\"fare_amount\"]\n",
    "X_train = X_train.drop([\"fare_amount\"], axis=1)"
   ]
  },
  {
   "cell_type": "code",
   "execution_count": 7,
   "metadata": {},
   "outputs": [
    {
     "data": {
      "text/plain": [
       "43211180    13.0\n",
       "27239260     8.1\n",
       "2232607      5.0\n",
       "33412474    16.9\n",
       "31114999    17.0\n",
       "Name: fare_amount, dtype: float32"
      ]
     },
     "execution_count": 7,
     "metadata": {},
     "output_type": "execute_result"
    }
   ],
   "source": [
    "y_train.head()"
   ]
  },
  {
   "cell_type": "code",
   "execution_count": 8,
   "metadata": {},
   "outputs": [
    {
     "data": {
      "text/html": [
       "<div>\n",
       "<style scoped>\n",
       "    .dataframe tbody tr th:only-of-type {\n",
       "        vertical-align: middle;\n",
       "    }\n",
       "\n",
       "    .dataframe tbody tr th {\n",
       "        vertical-align: top;\n",
       "    }\n",
       "\n",
       "    .dataframe thead th {\n",
       "        text-align: right;\n",
       "    }\n",
       "</style>\n",
       "<table border=\"1\" class=\"dataframe\">\n",
       "  <thead>\n",
       "    <tr style=\"text-align: right;\">\n",
       "      <th></th>\n",
       "      <th>pickup_datetime</th>\n",
       "      <th>pickup_longitude</th>\n",
       "      <th>pickup_latitude</th>\n",
       "      <th>dropoff_longitude</th>\n",
       "      <th>dropoff_latitude</th>\n",
       "      <th>passenger_count</th>\n",
       "    </tr>\n",
       "  </thead>\n",
       "  <tbody>\n",
       "    <tr>\n",
       "      <th>43211180</th>\n",
       "      <td>2013-08-15 07:08:42+00:00</td>\n",
       "      <td>-73.985954</td>\n",
       "      <td>40.767220</td>\n",
       "      <td>-73.985107</td>\n",
       "      <td>40.732491</td>\n",
       "      <td>1</td>\n",
       "    </tr>\n",
       "    <tr>\n",
       "      <th>27239260</th>\n",
       "      <td>2010-08-25 18:36:00+00:00</td>\n",
       "      <td>-73.940933</td>\n",
       "      <td>40.744080</td>\n",
       "      <td>-73.932442</td>\n",
       "      <td>40.743553</td>\n",
       "      <td>1</td>\n",
       "    </tr>\n",
       "    <tr>\n",
       "      <th>2232607</th>\n",
       "      <td>2014-02-18 21:27:29+00:00</td>\n",
       "      <td>-73.992760</td>\n",
       "      <td>40.742912</td>\n",
       "      <td>-74.004753</td>\n",
       "      <td>40.747952</td>\n",
       "      <td>1</td>\n",
       "    </tr>\n",
       "    <tr>\n",
       "      <th>33412474</th>\n",
       "      <td>2010-07-07 19:26:00+00:00</td>\n",
       "      <td>-73.979012</td>\n",
       "      <td>40.765575</td>\n",
       "      <td>-74.008499</td>\n",
       "      <td>40.705063</td>\n",
       "      <td>5</td>\n",
       "    </tr>\n",
       "    <tr>\n",
       "      <th>31114999</th>\n",
       "      <td>2013-05-07 21:07:00+00:00</td>\n",
       "      <td>-73.978752</td>\n",
       "      <td>40.785679</td>\n",
       "      <td>-73.993744</td>\n",
       "      <td>40.732674</td>\n",
       "      <td>1</td>\n",
       "    </tr>\n",
       "  </tbody>\n",
       "</table>\n",
       "</div>"
      ],
      "text/plain": [
       "                   pickup_datetime  pickup_longitude  pickup_latitude  \\\n",
       "43211180 2013-08-15 07:08:42+00:00        -73.985954        40.767220   \n",
       "27239260 2010-08-25 18:36:00+00:00        -73.940933        40.744080   \n",
       "2232607  2014-02-18 21:27:29+00:00        -73.992760        40.742912   \n",
       "33412474 2010-07-07 19:26:00+00:00        -73.979012        40.765575   \n",
       "31114999 2013-05-07 21:07:00+00:00        -73.978752        40.785679   \n",
       "\n",
       "          dropoff_longitude  dropoff_latitude  passenger_count  \n",
       "43211180         -73.985107         40.732491                1  \n",
       "27239260         -73.932442         40.743553                1  \n",
       "2232607          -74.004753         40.747952                1  \n",
       "33412474         -74.008499         40.705063                5  \n",
       "31114999         -73.993744         40.732674                1  "
      ]
     },
     "execution_count": 8,
     "metadata": {},
     "output_type": "execute_result"
    }
   ],
   "source": [
    "X_train.head()"
   ]
  },
  {
   "cell_type": "code",
   "execution_count": 9,
   "metadata": {},
   "outputs": [
    {
     "data": {
      "text/html": [
       "<div>\n",
       "<style scoped>\n",
       "    .dataframe tbody tr th:only-of-type {\n",
       "        vertical-align: middle;\n",
       "    }\n",
       "\n",
       "    .dataframe tbody tr th {\n",
       "        vertical-align: top;\n",
       "    }\n",
       "\n",
       "    .dataframe thead th {\n",
       "        text-align: right;\n",
       "    }\n",
       "</style>\n",
       "<table border=\"1\" class=\"dataframe\">\n",
       "  <thead>\n",
       "    <tr style=\"text-align: right;\">\n",
       "      <th></th>\n",
       "      <th>key</th>\n",
       "      <th>pickup_datetime</th>\n",
       "      <th>pickup_longitude</th>\n",
       "      <th>pickup_latitude</th>\n",
       "      <th>dropoff_longitude</th>\n",
       "      <th>dropoff_latitude</th>\n",
       "      <th>passenger_count</th>\n",
       "    </tr>\n",
       "  </thead>\n",
       "  <tbody>\n",
       "    <tr>\n",
       "      <th>0</th>\n",
       "      <td>2015-01-27 13:08:24.0000002</td>\n",
       "      <td>2015-01-27 13:08:24+00:00</td>\n",
       "      <td>-73.973320</td>\n",
       "      <td>40.763805</td>\n",
       "      <td>-73.981430</td>\n",
       "      <td>40.743835</td>\n",
       "      <td>1</td>\n",
       "    </tr>\n",
       "    <tr>\n",
       "      <th>1</th>\n",
       "      <td>2015-01-27 13:08:24.0000003</td>\n",
       "      <td>2015-01-27 13:08:24+00:00</td>\n",
       "      <td>-73.986862</td>\n",
       "      <td>40.719383</td>\n",
       "      <td>-73.998886</td>\n",
       "      <td>40.739201</td>\n",
       "      <td>1</td>\n",
       "    </tr>\n",
       "    <tr>\n",
       "      <th>2</th>\n",
       "      <td>2011-10-08 11:53:44.0000002</td>\n",
       "      <td>2011-10-08 11:53:44+00:00</td>\n",
       "      <td>-73.982521</td>\n",
       "      <td>40.751259</td>\n",
       "      <td>-73.979652</td>\n",
       "      <td>40.746140</td>\n",
       "      <td>1</td>\n",
       "    </tr>\n",
       "    <tr>\n",
       "      <th>3</th>\n",
       "      <td>2012-12-01 21:12:12.0000002</td>\n",
       "      <td>2012-12-01 21:12:12+00:00</td>\n",
       "      <td>-73.981163</td>\n",
       "      <td>40.767807</td>\n",
       "      <td>-73.990448</td>\n",
       "      <td>40.751637</td>\n",
       "      <td>1</td>\n",
       "    </tr>\n",
       "    <tr>\n",
       "      <th>4</th>\n",
       "      <td>2012-12-01 21:12:12.0000003</td>\n",
       "      <td>2012-12-01 21:12:12+00:00</td>\n",
       "      <td>-73.966049</td>\n",
       "      <td>40.789776</td>\n",
       "      <td>-73.988564</td>\n",
       "      <td>40.744427</td>\n",
       "      <td>1</td>\n",
       "    </tr>\n",
       "  </tbody>\n",
       "</table>\n",
       "</div>"
      ],
      "text/plain": [
       "                           key           pickup_datetime  pickup_longitude  \\\n",
       "0  2015-01-27 13:08:24.0000002 2015-01-27 13:08:24+00:00        -73.973320   \n",
       "1  2015-01-27 13:08:24.0000003 2015-01-27 13:08:24+00:00        -73.986862   \n",
       "2  2011-10-08 11:53:44.0000002 2011-10-08 11:53:44+00:00        -73.982521   \n",
       "3  2012-12-01 21:12:12.0000002 2012-12-01 21:12:12+00:00        -73.981163   \n",
       "4  2012-12-01 21:12:12.0000003 2012-12-01 21:12:12+00:00        -73.966049   \n",
       "\n",
       "   pickup_latitude  dropoff_longitude  dropoff_latitude  passenger_count  \n",
       "0        40.763805         -73.981430         40.743835                1  \n",
       "1        40.719383         -73.998886         40.739201                1  \n",
       "2        40.751259         -73.979652         40.746140                1  \n",
       "3        40.767807         -73.990448         40.751637                1  \n",
       "4        40.789776         -73.988564         40.744427                1  "
      ]
     },
     "execution_count": 9,
     "metadata": {},
     "output_type": "execute_result"
    }
   ],
   "source": [
    "X_test.head()"
   ]
  },
  {
   "cell_type": "code",
   "execution_count": 10,
   "metadata": {},
   "outputs": [],
   "source": [
    "test_key = X_test[\"key\"]\n",
    "X_test = X_test.drop([\"key\"], axis=1)"
   ]
  },
  {
   "cell_type": "code",
   "execution_count": 11,
   "metadata": {},
   "outputs": [
    {
     "data": {
      "text/plain": [
       "0    2015-01-27 13:08:24.0000002\n",
       "1    2015-01-27 13:08:24.0000003\n",
       "2    2011-10-08 11:53:44.0000002\n",
       "3    2012-12-01 21:12:12.0000002\n",
       "4    2012-12-01 21:12:12.0000003\n",
       "Name: key, dtype: object"
      ]
     },
     "execution_count": 11,
     "metadata": {},
     "output_type": "execute_result"
    }
   ],
   "source": [
    "test_key.head()"
   ]
  },
  {
   "cell_type": "code",
   "execution_count": 12,
   "metadata": {},
   "outputs": [
    {
     "data": {
      "text/html": [
       "<div>\n",
       "<style scoped>\n",
       "    .dataframe tbody tr th:only-of-type {\n",
       "        vertical-align: middle;\n",
       "    }\n",
       "\n",
       "    .dataframe tbody tr th {\n",
       "        vertical-align: top;\n",
       "    }\n",
       "\n",
       "    .dataframe thead th {\n",
       "        text-align: right;\n",
       "    }\n",
       "</style>\n",
       "<table border=\"1\" class=\"dataframe\">\n",
       "  <thead>\n",
       "    <tr style=\"text-align: right;\">\n",
       "      <th></th>\n",
       "      <th>pickup_datetime</th>\n",
       "      <th>pickup_longitude</th>\n",
       "      <th>pickup_latitude</th>\n",
       "      <th>dropoff_longitude</th>\n",
       "      <th>dropoff_latitude</th>\n",
       "      <th>passenger_count</th>\n",
       "    </tr>\n",
       "  </thead>\n",
       "  <tbody>\n",
       "    <tr>\n",
       "      <th>0</th>\n",
       "      <td>2015-01-27 13:08:24+00:00</td>\n",
       "      <td>-73.973320</td>\n",
       "      <td>40.763805</td>\n",
       "      <td>-73.981430</td>\n",
       "      <td>40.743835</td>\n",
       "      <td>1</td>\n",
       "    </tr>\n",
       "    <tr>\n",
       "      <th>1</th>\n",
       "      <td>2015-01-27 13:08:24+00:00</td>\n",
       "      <td>-73.986862</td>\n",
       "      <td>40.719383</td>\n",
       "      <td>-73.998886</td>\n",
       "      <td>40.739201</td>\n",
       "      <td>1</td>\n",
       "    </tr>\n",
       "    <tr>\n",
       "      <th>2</th>\n",
       "      <td>2011-10-08 11:53:44+00:00</td>\n",
       "      <td>-73.982521</td>\n",
       "      <td>40.751259</td>\n",
       "      <td>-73.979652</td>\n",
       "      <td>40.746140</td>\n",
       "      <td>1</td>\n",
       "    </tr>\n",
       "    <tr>\n",
       "      <th>3</th>\n",
       "      <td>2012-12-01 21:12:12+00:00</td>\n",
       "      <td>-73.981163</td>\n",
       "      <td>40.767807</td>\n",
       "      <td>-73.990448</td>\n",
       "      <td>40.751637</td>\n",
       "      <td>1</td>\n",
       "    </tr>\n",
       "    <tr>\n",
       "      <th>4</th>\n",
       "      <td>2012-12-01 21:12:12+00:00</td>\n",
       "      <td>-73.966049</td>\n",
       "      <td>40.789776</td>\n",
       "      <td>-73.988564</td>\n",
       "      <td>40.744427</td>\n",
       "      <td>1</td>\n",
       "    </tr>\n",
       "  </tbody>\n",
       "</table>\n",
       "</div>"
      ],
      "text/plain": [
       "            pickup_datetime  pickup_longitude  pickup_latitude  \\\n",
       "0 2015-01-27 13:08:24+00:00        -73.973320        40.763805   \n",
       "1 2015-01-27 13:08:24+00:00        -73.986862        40.719383   \n",
       "2 2011-10-08 11:53:44+00:00        -73.982521        40.751259   \n",
       "3 2012-12-01 21:12:12+00:00        -73.981163        40.767807   \n",
       "4 2012-12-01 21:12:12+00:00        -73.966049        40.789776   \n",
       "\n",
       "   dropoff_longitude  dropoff_latitude  passenger_count  \n",
       "0         -73.981430         40.743835                1  \n",
       "1         -73.998886         40.739201                1  \n",
       "2         -73.979652         40.746140                1  \n",
       "3         -73.990448         40.751637                1  \n",
       "4         -73.988564         40.744427                1  "
      ]
     },
     "execution_count": 12,
     "metadata": {},
     "output_type": "execute_result"
    }
   ],
   "source": [
    "X_test.head()"
   ]
  },
  {
   "cell_type": "markdown",
   "metadata": {},
   "source": [
    "# Feature extraction\n",
    "\n",
    "Ta collect tất cả các functions tạo ra columns trong `data_cleaning_and_EDA.ipynb` và đặt chúng trong 1 function để dùng cho cả tập `train` và `test`"
   ]
  },
  {
   "cell_type": "code",
   "execution_count": 13,
   "metadata": {},
   "outputs": [],
   "source": [
    "# return distance in kilometer\n",
    "def distance(lon1, lat1, lon2, lat2):\n",
    "    if isinstance(lon1, pd.Series):\n",
    "        lon1 = lon1.values\n",
    "    \n",
    "    if isinstance(lat1, pd.Series):\n",
    "        lat1 = lat1.values\n",
    "        \n",
    "    if isinstance(lon2, pd.Series):\n",
    "        lon2 = lon2.values\n",
    "    \n",
    "    if isinstance(lat2, pd.Series):\n",
    "        lat2 = lat2.values\n",
    "        \n",
    "    # use more precise floating numbers\n",
    "    if isinstance(lon1, np.ndarray):\n",
    "        lon1 = np.asarray(lon1, dtype=np.float64)\n",
    "    \n",
    "    if isinstance(lat1, np.ndarray):\n",
    "        lat1 = np.asarray(lat1, dtype=np.float64)\n",
    "        \n",
    "    if isinstance(lon2, np.ndarray):\n",
    "        lon2 = np.asarray(lon2, dtype=np.float64)\n",
    "    \n",
    "    if isinstance(lat2, np.ndarray):\n",
    "        lat2 = np.asarray(lat2, dtype=np.float64)\n",
    "        \n",
    "    lon1_rad = np.radians(lon1)\n",
    "    lat1_rad = np.radians(lat1)\n",
    "    lon2_rad = np.radians(lon2)\n",
    "    lat2_rad = np.radians(lat2)\n",
    "    \n",
    "    a = 0.5 - 0.5*np.cos(lat2_rad - lat1_rad) + np.cos(lat1_rad)*np.cos(lat2_rad)*(1 - np.cos(lon2_rad - lon1_rad))*0.5\n",
    "    return 12742 * np.arcsin(np.sqrt(a))\n",
    "\n",
    "def add_distance_col(df):\n",
    "    df[\"distance\"] = distance(df[\"pickup_longitude\"], df[\"pickup_latitude\"],\n",
    "                              df[\"dropoff_longitude\"], df[\"dropoff_latitude\"])\n",
    "    df[\"distance\"] = df[\"distance\"].astype(np.float32)\n",
    "    return df"
   ]
  },
  {
   "cell_type": "code",
   "execution_count": 14,
   "metadata": {},
   "outputs": [],
   "source": [
    "# 40.639722, -73.778889\n",
    "JFK_LON = -73.778889\n",
    "JFK_LAT = 40.639722\n",
    "\n",
    "# 40.6925, -74.168611\n",
    "EWR_LON = -74.168611\n",
    "EWR_LAT = 40.6925\n",
    "\n",
    "# 40.77725, -73.872611\n",
    "LGA_LON = -73.872611\n",
    "LGA_LAT = 40.77725\n",
    "\n",
    "def is_to_airport(df, airport_lon, airport_lat, thres=3):\n",
    "    dist = distance(airport_lon, airport_lat, df[\"dropoff_longitude\"], df[\"dropoff_latitude\"])\n",
    "    return dist < thres\n",
    "\n",
    "def is_from_airport(df, airport_lon, airport_lat, thres=3.):\n",
    "    dist = distance(airport_lon, airport_lat, df[\"pickup_longitude\"], df[\"pickup_latitude\"])\n",
    "    return dist < thres\n",
    "\n",
    "def mark_airport_trip(df, \n",
    "                      jfk_lon=JFK_LON, jfk_lat=JFK_LAT, \n",
    "                      ewr_lon=EWR_LON, ewr_lat=EWR_LAT,\n",
    "                      lga_lon=LGA_LON, lga_lat=LGA_LAT):\n",
    "    \n",
    "    df[\"from_to_airport\"] = \"No\"\n",
    "    \n",
    "    from_to_jfk = is_to_airport(df, jfk_lon, jfk_lat) | is_from_airport(df, jfk_lon, jfk_lat)\n",
    "    df.loc[from_to_jfk, \"from_to_airport\"] = \"JFK\"\n",
    "    \n",
    "    from_to_ewr = is_to_airport(df, ewr_lon, ewr_lat) | is_from_airport(df, ewr_lon, ewr_lat)\n",
    "    df.loc[from_to_ewr, \"from_to_airport\"] = \"EWR\"\n",
    "    \n",
    "    from_to_lga = is_to_airport(df, lga_lon, lga_lat) | is_from_airport(df, lga_lon, lga_lat)\n",
    "    df.loc[from_to_lga, \"from_to_airport\"] = \"LGA\"\n",
    "    \n",
    "    return df"
   ]
  },
  {
   "cell_type": "code",
   "execution_count": 15,
   "metadata": {},
   "outputs": [],
   "source": [
    "# New York City Coordinates from google\n",
    "NYC_LON = -74.006\n",
    "NYC_LAT = 40.7128\n",
    "\n",
    "def add_pickup_to_center_dist_col(df, nyc_lon=NYC_LON, nyc_lat=NYC_LAT):\n",
    "    df[\"pickup_to_center_dist\"] = distance(nyc_lon, nyc_lat, \n",
    "                                           df[\"pickup_longitude\"], df[\"pickup_latitude\"])\n",
    "    df[\"pickup_to_center_dist\"] = df[\"pickup_to_center_dist\"].astype(np.float32)\n",
    "    return df\n",
    "\n",
    "\n",
    "def add_dropoff_to_center_dist_col(df, nyc_lon=NYC_LON, nyc_lat=NYC_LAT):\n",
    "    df[\"dropoff_to_center_dist\"] = distance(nyc_lon, nyc_lat, \n",
    "                                            df[\"dropoff_longitude\"], df[\"dropoff_latitude\"])\n",
    "    df[\"dropoff_to_center_dist\"] = df[\"dropoff_to_center_dist\"].astype(np.float32)\n",
    "    return df"
   ]
  },
  {
   "cell_type": "code",
   "execution_count": 16,
   "metadata": {},
   "outputs": [],
   "source": [
    "def direction(lons_1, lats_1, lons_2, lats_2):\n",
    "    bm = Basemap()\n",
    "    \n",
    "    x1, y1 = bm(lons_1, lats_1)\n",
    "    x2, y2 = bm(lons_2, lats_2)\n",
    "    \n",
    "    dx = x2 - x1\n",
    "    dy = y2 - y1\n",
    "    \n",
    "    hypotenuse = np.sqrt(dx*dx + dy*dy)\n",
    "    \n",
    "    pos_dx = dx >= 0\n",
    "    neg_dx = dx < 0\n",
    "    \n",
    "    pos_dy = dy >= 0\n",
    "    neg_dy = dy < 0\n",
    "    \n",
    "    neg_dx_and_pos_dy = neg_dx & pos_dy\n",
    "    neg_dx_and_neg_dy = neg_dx & neg_dy\n",
    "    \n",
    "    direc = np.zeros(len(dx))\n",
    "    \n",
    "    direc[pos_dx] = np.arcsin(dy[pos_dx] / hypotenuse[pos_dx])\n",
    "    \n",
    "    direc[neg_dx_and_pos_dy] = np.pi - np.arcsin(dy[neg_dx_and_pos_dy] / hypotenuse[neg_dx_and_pos_dy])\n",
    "    \n",
    "    direc[neg_dx_and_neg_dy] = -np.pi - np.arcsin(dy[neg_dx_and_neg_dy] / hypotenuse[neg_dx_and_neg_dy])\n",
    "    \n",
    "    direc = 180 / np.pi * direc\n",
    "    return direc\n",
    "\n",
    "def add_direction_col(df):\n",
    "    df[\"direction\"] = direction(df[\"pickup_longitude\"], df[\"pickup_latitude\"],\n",
    "                                df[\"dropoff_longitude\"], df[\"dropoff_latitude\"])\n",
    "    df[\"direction\"] = df[\"direction\"].astype(np.float32)\n",
    "    \n",
    "    return df\n",
    "\n",
    "def impute_nan_direction(df):\n",
    "    df.loc[df[\"direction\"].isna(), \"direction\"] = df[\"direction\"].median()\n",
    "    return df"
   ]
  },
  {
   "cell_type": "code",
   "execution_count": 17,
   "metadata": {},
   "outputs": [],
   "source": [
    "def ad_time_cols(df):\n",
    "    df[\"year\"] = df[\"pickup_datetime\"].apply(lambda t: t.year).astype(np.int32)\n",
    "    df[\"month\"] = df[\"pickup_datetime\"].apply(lambda t: t.month).astype(np.uint8)\n",
    "    df[\"weekday\"] = df[\"pickup_datetime\"].apply(lambda t: t.weekday).astype(np.uint8)\n",
    "    df[\"hour\"] = df[\"pickup_datetime\"].apply(lambda t: t.hour).astype(np.uint8)\n",
    "    return df"
   ]
  },
  {
   "cell_type": "code",
   "execution_count": 18,
   "metadata": {},
   "outputs": [],
   "source": [
    "COLS_TO_REMOVE = [\"pickup_datetime\"]\n",
    "\n",
    "def extract_new_features(df, cols_to_remove=COLS_TO_REMOVE):\n",
    "    df = add_distance_col(df)\n",
    "    df = mark_airport_trip(df)\n",
    "    df = add_pickup_to_center_dist_col(df)\n",
    "    df = add_dropoff_to_center_dist_col(df)\n",
    "    df = add_direction_col(df)\n",
    "    df = impute_nan_direction(df)\n",
    "    df = ad_time_cols(df)\n",
    "    \n",
    "    df = df.drop(cols_to_remove, axis=1)\n",
    "    return df"
   ]
  },
  {
   "cell_type": "code",
   "execution_count": 19,
   "metadata": {},
   "outputs": [
    {
     "name": "stderr",
     "output_type": "stream",
     "text": [
      "//anaconda3/lib/python3.7/site-packages/ipykernel_launcher.py:23: RuntimeWarning: invalid value encountered in arcsin\n"
     ]
    }
   ],
   "source": [
    "X_train = extract_new_features(X_train)\n",
    "X_test = extract_new_features(X_test)"
   ]
  },
  {
   "cell_type": "code",
   "execution_count": 20,
   "metadata": {},
   "outputs": [
    {
     "data": {
      "text/html": [
       "<div>\n",
       "<style scoped>\n",
       "    .dataframe tbody tr th:only-of-type {\n",
       "        vertical-align: middle;\n",
       "    }\n",
       "\n",
       "    .dataframe tbody tr th {\n",
       "        vertical-align: top;\n",
       "    }\n",
       "\n",
       "    .dataframe thead th {\n",
       "        text-align: right;\n",
       "    }\n",
       "</style>\n",
       "<table border=\"1\" class=\"dataframe\">\n",
       "  <thead>\n",
       "    <tr style=\"text-align: right;\">\n",
       "      <th></th>\n",
       "      <th>pickup_longitude</th>\n",
       "      <th>pickup_latitude</th>\n",
       "      <th>dropoff_longitude</th>\n",
       "      <th>dropoff_latitude</th>\n",
       "      <th>passenger_count</th>\n",
       "      <th>distance</th>\n",
       "      <th>from_to_airport</th>\n",
       "      <th>pickup_to_center_dist</th>\n",
       "      <th>dropoff_to_center_dist</th>\n",
       "      <th>direction</th>\n",
       "      <th>year</th>\n",
       "      <th>month</th>\n",
       "      <th>weekday</th>\n",
       "      <th>hour</th>\n",
       "    </tr>\n",
       "  </thead>\n",
       "  <tbody>\n",
       "    <tr>\n",
       "      <th>43211180</th>\n",
       "      <td>-73.985954</td>\n",
       "      <td>40.767220</td>\n",
       "      <td>-73.985107</td>\n",
       "      <td>40.732491</td>\n",
       "      <td>1</td>\n",
       "      <td>3.862348</td>\n",
       "      <td>No</td>\n",
       "      <td>6.282433</td>\n",
       "      <td>2.809587</td>\n",
       "      <td>-88.603241</td>\n",
       "      <td>2013</td>\n",
       "      <td>8</td>\n",
       "      <td>3</td>\n",
       "      <td>7</td>\n",
       "    </tr>\n",
       "    <tr>\n",
       "      <th>27239260</th>\n",
       "      <td>-73.940933</td>\n",
       "      <td>40.744080</td>\n",
       "      <td>-73.932442</td>\n",
       "      <td>40.743553</td>\n",
       "      <td>1</td>\n",
       "      <td>0.717761</td>\n",
       "      <td>No</td>\n",
       "      <td>6.492984</td>\n",
       "      <td>7.079102</td>\n",
       "      <td>-3.547489</td>\n",
       "      <td>2010</td>\n",
       "      <td>8</td>\n",
       "      <td>2</td>\n",
       "      <td>18</td>\n",
       "    </tr>\n",
       "    <tr>\n",
       "      <th>2232607</th>\n",
       "      <td>-73.992760</td>\n",
       "      <td>40.742912</td>\n",
       "      <td>-74.004753</td>\n",
       "      <td>40.747952</td>\n",
       "      <td>1</td>\n",
       "      <td>1.155339</td>\n",
       "      <td>No</td>\n",
       "      <td>3.529324</td>\n",
       "      <td>3.910081</td>\n",
       "      <td>157.209534</td>\n",
       "      <td>2014</td>\n",
       "      <td>2</td>\n",
       "      <td>1</td>\n",
       "      <td>21</td>\n",
       "    </tr>\n",
       "    <tr>\n",
       "      <th>33412474</th>\n",
       "      <td>-73.979012</td>\n",
       "      <td>40.765575</td>\n",
       "      <td>-74.008499</td>\n",
       "      <td>40.705063</td>\n",
       "      <td>5</td>\n",
       "      <td>7.172727</td>\n",
       "      <td>No</td>\n",
       "      <td>6.293475</td>\n",
       "      <td>0.885744</td>\n",
       "      <td>-115.979851</td>\n",
       "      <td>2010</td>\n",
       "      <td>7</td>\n",
       "      <td>2</td>\n",
       "      <td>19</td>\n",
       "    </tr>\n",
       "    <tr>\n",
       "      <th>31114999</th>\n",
       "      <td>-73.978752</td>\n",
       "      <td>40.785679</td>\n",
       "      <td>-73.993744</td>\n",
       "      <td>40.732674</td>\n",
       "      <td>1</td>\n",
       "      <td>6.027651</td>\n",
       "      <td>No</td>\n",
       "      <td>8.422553</td>\n",
       "      <td>2.439303</td>\n",
       "      <td>-105.792786</td>\n",
       "      <td>2013</td>\n",
       "      <td>5</td>\n",
       "      <td>1</td>\n",
       "      <td>21</td>\n",
       "    </tr>\n",
       "  </tbody>\n",
       "</table>\n",
       "</div>"
      ],
      "text/plain": [
       "          pickup_longitude  pickup_latitude  dropoff_longitude  \\\n",
       "43211180        -73.985954        40.767220         -73.985107   \n",
       "27239260        -73.940933        40.744080         -73.932442   \n",
       "2232607         -73.992760        40.742912         -74.004753   \n",
       "33412474        -73.979012        40.765575         -74.008499   \n",
       "31114999        -73.978752        40.785679         -73.993744   \n",
       "\n",
       "          dropoff_latitude  passenger_count  distance from_to_airport  \\\n",
       "43211180         40.732491                1  3.862348              No   \n",
       "27239260         40.743553                1  0.717761              No   \n",
       "2232607          40.747952                1  1.155339              No   \n",
       "33412474         40.705063                5  7.172727              No   \n",
       "31114999         40.732674                1  6.027651              No   \n",
       "\n",
       "          pickup_to_center_dist  dropoff_to_center_dist   direction  year  \\\n",
       "43211180               6.282433                2.809587  -88.603241  2013   \n",
       "27239260               6.492984                7.079102   -3.547489  2010   \n",
       "2232607                3.529324                3.910081  157.209534  2014   \n",
       "33412474               6.293475                0.885744 -115.979851  2010   \n",
       "31114999               8.422553                2.439303 -105.792786  2013   \n",
       "\n",
       "          month  weekday  hour  \n",
       "43211180      8        3     7  \n",
       "27239260      8        2    18  \n",
       "2232607       2        1    21  \n",
       "33412474      7        2    19  \n",
       "31114999      5        1    21  "
      ]
     },
     "execution_count": 20,
     "metadata": {},
     "output_type": "execute_result"
    }
   ],
   "source": [
    "X_train.head()"
   ]
  },
  {
   "cell_type": "code",
   "execution_count": 21,
   "metadata": {},
   "outputs": [
    {
     "data": {
      "text/html": [
       "<div>\n",
       "<style scoped>\n",
       "    .dataframe tbody tr th:only-of-type {\n",
       "        vertical-align: middle;\n",
       "    }\n",
       "\n",
       "    .dataframe tbody tr th {\n",
       "        vertical-align: top;\n",
       "    }\n",
       "\n",
       "    .dataframe thead th {\n",
       "        text-align: right;\n",
       "    }\n",
       "</style>\n",
       "<table border=\"1\" class=\"dataframe\">\n",
       "  <thead>\n",
       "    <tr style=\"text-align: right;\">\n",
       "      <th></th>\n",
       "      <th>pickup_longitude</th>\n",
       "      <th>pickup_latitude</th>\n",
       "      <th>dropoff_longitude</th>\n",
       "      <th>dropoff_latitude</th>\n",
       "      <th>passenger_count</th>\n",
       "      <th>distance</th>\n",
       "      <th>from_to_airport</th>\n",
       "      <th>pickup_to_center_dist</th>\n",
       "      <th>dropoff_to_center_dist</th>\n",
       "      <th>direction</th>\n",
       "      <th>year</th>\n",
       "      <th>month</th>\n",
       "      <th>weekday</th>\n",
       "      <th>hour</th>\n",
       "    </tr>\n",
       "  </thead>\n",
       "  <tbody>\n",
       "    <tr>\n",
       "      <th>0</th>\n",
       "      <td>-73.973320</td>\n",
       "      <td>40.763805</td>\n",
       "      <td>-73.981430</td>\n",
       "      <td>40.743835</td>\n",
       "      <td>1</td>\n",
       "      <td>2.323260</td>\n",
       "      <td>No</td>\n",
       "      <td>6.304552</td>\n",
       "      <td>4.024398</td>\n",
       "      <td>-112.102699</td>\n",
       "      <td>2015</td>\n",
       "      <td>1</td>\n",
       "      <td>1</td>\n",
       "      <td>13</td>\n",
       "    </tr>\n",
       "    <tr>\n",
       "      <th>1</th>\n",
       "      <td>-73.986862</td>\n",
       "      <td>40.719383</td>\n",
       "      <td>-73.998886</td>\n",
       "      <td>40.739201</td>\n",
       "      <td>1</td>\n",
       "      <td>2.425353</td>\n",
       "      <td>No</td>\n",
       "      <td>1.771281</td>\n",
       "      <td>2.996195</td>\n",
       "      <td>121.246758</td>\n",
       "      <td>2015</td>\n",
       "      <td>1</td>\n",
       "      <td>1</td>\n",
       "      <td>13</td>\n",
       "    </tr>\n",
       "    <tr>\n",
       "      <th>2</th>\n",
       "      <td>-73.982521</td>\n",
       "      <td>40.751259</td>\n",
       "      <td>-73.979652</td>\n",
       "      <td>40.746140</td>\n",
       "      <td>1</td>\n",
       "      <td>0.618412</td>\n",
       "      <td>No</td>\n",
       "      <td>4.711865</td>\n",
       "      <td>4.321139</td>\n",
       "      <td>-60.735573</td>\n",
       "      <td>2011</td>\n",
       "      <td>10</td>\n",
       "      <td>5</td>\n",
       "      <td>11</td>\n",
       "    </tr>\n",
       "    <tr>\n",
       "      <th>3</th>\n",
       "      <td>-73.981163</td>\n",
       "      <td>40.767807</td>\n",
       "      <td>-73.990448</td>\n",
       "      <td>40.751637</td>\n",
       "      <td>1</td>\n",
       "      <td>1.960778</td>\n",
       "      <td>No</td>\n",
       "      <td>6.464530</td>\n",
       "      <td>4.512865</td>\n",
       "      <td>-119.864113</td>\n",
       "      <td>2012</td>\n",
       "      <td>12</td>\n",
       "      <td>5</td>\n",
       "      <td>21</td>\n",
       "    </tr>\n",
       "    <tr>\n",
       "      <th>4</th>\n",
       "      <td>-73.966049</td>\n",
       "      <td>40.789776</td>\n",
       "      <td>-73.988564</td>\n",
       "      <td>40.744427</td>\n",
       "      <td>1</td>\n",
       "      <td>5.387280</td>\n",
       "      <td>No</td>\n",
       "      <td>9.197128</td>\n",
       "      <td>3.811321</td>\n",
       "      <td>-116.402885</td>\n",
       "      <td>2012</td>\n",
       "      <td>12</td>\n",
       "      <td>5</td>\n",
       "      <td>21</td>\n",
       "    </tr>\n",
       "  </tbody>\n",
       "</table>\n",
       "</div>"
      ],
      "text/plain": [
       "   pickup_longitude  pickup_latitude  dropoff_longitude  dropoff_latitude  \\\n",
       "0        -73.973320        40.763805         -73.981430         40.743835   \n",
       "1        -73.986862        40.719383         -73.998886         40.739201   \n",
       "2        -73.982521        40.751259         -73.979652         40.746140   \n",
       "3        -73.981163        40.767807         -73.990448         40.751637   \n",
       "4        -73.966049        40.789776         -73.988564         40.744427   \n",
       "\n",
       "   passenger_count  distance from_to_airport  pickup_to_center_dist  \\\n",
       "0                1  2.323260              No               6.304552   \n",
       "1                1  2.425353              No               1.771281   \n",
       "2                1  0.618412              No               4.711865   \n",
       "3                1  1.960778              No               6.464530   \n",
       "4                1  5.387280              No               9.197128   \n",
       "\n",
       "   dropoff_to_center_dist   direction  year  month  weekday  hour  \n",
       "0                4.024398 -112.102699  2015      1        1    13  \n",
       "1                2.996195  121.246758  2015      1        1    13  \n",
       "2                4.321139  -60.735573  2011     10        5    11  \n",
       "3                4.512865 -119.864113  2012     12        5    21  \n",
       "4                3.811321 -116.402885  2012     12        5    21  "
      ]
     },
     "execution_count": 21,
     "metadata": {},
     "output_type": "execute_result"
    }
   ],
   "source": [
    "X_test.head()"
   ]
  },
  {
   "cell_type": "markdown",
   "metadata": {},
   "source": [
    "One-hot encoding."
   ]
  },
  {
   "cell_type": "code",
   "execution_count": 22,
   "metadata": {},
   "outputs": [],
   "source": [
    "CAT_COLS = (\"from_to_airport\", \"month\", \"weekday\", \"hour\")\n",
    "\n",
    "def onehot_encode(X_train, X_test, cat_cols=CAT_COLS):\n",
    "    type_dict = {col: \"category\" for col in cat_cols}\n",
    "    \n",
    "    X_train_ohe = pd.get_dummies(X_train.astype(type_dict), drop_first=True)\n",
    "    X_test_ohe = pd.get_dummies(X_test.astype(type_dict), drop_first=True)\n",
    "\n",
    "    X_train_ohe, X_test_ohe = X_train_ohe.align(X_test_ohe, join='inner', axis=1)\n",
    "    return X_train_ohe, X_test_ohe"
   ]
  },
  {
   "cell_type": "code",
   "execution_count": 23,
   "metadata": {},
   "outputs": [],
   "source": [
    "X_train, X_test = onehot_encode(X_train, X_test)"
   ]
  },
  {
   "cell_type": "code",
   "execution_count": 24,
   "metadata": {},
   "outputs": [
    {
     "data": {
      "text/plain": [
       "(10850896, 53)"
      ]
     },
     "execution_count": 24,
     "metadata": {},
     "output_type": "execute_result"
    }
   ],
   "source": [
    "X_train.shape"
   ]
  },
  {
   "cell_type": "code",
   "execution_count": 25,
   "metadata": {},
   "outputs": [
    {
     "data": {
      "text/html": [
       "<div>\n",
       "<style scoped>\n",
       "    .dataframe tbody tr th:only-of-type {\n",
       "        vertical-align: middle;\n",
       "    }\n",
       "\n",
       "    .dataframe tbody tr th {\n",
       "        vertical-align: top;\n",
       "    }\n",
       "\n",
       "    .dataframe thead th {\n",
       "        text-align: right;\n",
       "    }\n",
       "</style>\n",
       "<table border=\"1\" class=\"dataframe\">\n",
       "  <thead>\n",
       "    <tr style=\"text-align: right;\">\n",
       "      <th></th>\n",
       "      <th>pickup_longitude</th>\n",
       "      <th>pickup_latitude</th>\n",
       "      <th>dropoff_longitude</th>\n",
       "      <th>dropoff_latitude</th>\n",
       "      <th>passenger_count</th>\n",
       "      <th>distance</th>\n",
       "      <th>pickup_to_center_dist</th>\n",
       "      <th>dropoff_to_center_dist</th>\n",
       "      <th>direction</th>\n",
       "      <th>year</th>\n",
       "      <th>...</th>\n",
       "      <th>hour_14</th>\n",
       "      <th>hour_15</th>\n",
       "      <th>hour_16</th>\n",
       "      <th>hour_17</th>\n",
       "      <th>hour_18</th>\n",
       "      <th>hour_19</th>\n",
       "      <th>hour_20</th>\n",
       "      <th>hour_21</th>\n",
       "      <th>hour_22</th>\n",
       "      <th>hour_23</th>\n",
       "    </tr>\n",
       "  </thead>\n",
       "  <tbody>\n",
       "    <tr>\n",
       "      <th>43211180</th>\n",
       "      <td>-73.985954</td>\n",
       "      <td>40.767220</td>\n",
       "      <td>-73.985107</td>\n",
       "      <td>40.732491</td>\n",
       "      <td>1</td>\n",
       "      <td>3.862348</td>\n",
       "      <td>6.282433</td>\n",
       "      <td>2.809587</td>\n",
       "      <td>-88.603241</td>\n",
       "      <td>2013</td>\n",
       "      <td>...</td>\n",
       "      <td>0</td>\n",
       "      <td>0</td>\n",
       "      <td>0</td>\n",
       "      <td>0</td>\n",
       "      <td>0</td>\n",
       "      <td>0</td>\n",
       "      <td>0</td>\n",
       "      <td>0</td>\n",
       "      <td>0</td>\n",
       "      <td>0</td>\n",
       "    </tr>\n",
       "    <tr>\n",
       "      <th>27239260</th>\n",
       "      <td>-73.940933</td>\n",
       "      <td>40.744080</td>\n",
       "      <td>-73.932442</td>\n",
       "      <td>40.743553</td>\n",
       "      <td>1</td>\n",
       "      <td>0.717761</td>\n",
       "      <td>6.492984</td>\n",
       "      <td>7.079102</td>\n",
       "      <td>-3.547489</td>\n",
       "      <td>2010</td>\n",
       "      <td>...</td>\n",
       "      <td>0</td>\n",
       "      <td>0</td>\n",
       "      <td>0</td>\n",
       "      <td>0</td>\n",
       "      <td>1</td>\n",
       "      <td>0</td>\n",
       "      <td>0</td>\n",
       "      <td>0</td>\n",
       "      <td>0</td>\n",
       "      <td>0</td>\n",
       "    </tr>\n",
       "    <tr>\n",
       "      <th>2232607</th>\n",
       "      <td>-73.992760</td>\n",
       "      <td>40.742912</td>\n",
       "      <td>-74.004753</td>\n",
       "      <td>40.747952</td>\n",
       "      <td>1</td>\n",
       "      <td>1.155339</td>\n",
       "      <td>3.529324</td>\n",
       "      <td>3.910081</td>\n",
       "      <td>157.209534</td>\n",
       "      <td>2014</td>\n",
       "      <td>...</td>\n",
       "      <td>0</td>\n",
       "      <td>0</td>\n",
       "      <td>0</td>\n",
       "      <td>0</td>\n",
       "      <td>0</td>\n",
       "      <td>0</td>\n",
       "      <td>0</td>\n",
       "      <td>1</td>\n",
       "      <td>0</td>\n",
       "      <td>0</td>\n",
       "    </tr>\n",
       "    <tr>\n",
       "      <th>33412474</th>\n",
       "      <td>-73.979012</td>\n",
       "      <td>40.765575</td>\n",
       "      <td>-74.008499</td>\n",
       "      <td>40.705063</td>\n",
       "      <td>5</td>\n",
       "      <td>7.172727</td>\n",
       "      <td>6.293475</td>\n",
       "      <td>0.885744</td>\n",
       "      <td>-115.979851</td>\n",
       "      <td>2010</td>\n",
       "      <td>...</td>\n",
       "      <td>0</td>\n",
       "      <td>0</td>\n",
       "      <td>0</td>\n",
       "      <td>0</td>\n",
       "      <td>0</td>\n",
       "      <td>1</td>\n",
       "      <td>0</td>\n",
       "      <td>0</td>\n",
       "      <td>0</td>\n",
       "      <td>0</td>\n",
       "    </tr>\n",
       "    <tr>\n",
       "      <th>31114999</th>\n",
       "      <td>-73.978752</td>\n",
       "      <td>40.785679</td>\n",
       "      <td>-73.993744</td>\n",
       "      <td>40.732674</td>\n",
       "      <td>1</td>\n",
       "      <td>6.027651</td>\n",
       "      <td>8.422553</td>\n",
       "      <td>2.439303</td>\n",
       "      <td>-105.792786</td>\n",
       "      <td>2013</td>\n",
       "      <td>...</td>\n",
       "      <td>0</td>\n",
       "      <td>0</td>\n",
       "      <td>0</td>\n",
       "      <td>0</td>\n",
       "      <td>0</td>\n",
       "      <td>0</td>\n",
       "      <td>0</td>\n",
       "      <td>1</td>\n",
       "      <td>0</td>\n",
       "      <td>0</td>\n",
       "    </tr>\n",
       "  </tbody>\n",
       "</table>\n",
       "<p>5 rows × 53 columns</p>\n",
       "</div>"
      ],
      "text/plain": [
       "          pickup_longitude  pickup_latitude  dropoff_longitude  \\\n",
       "43211180        -73.985954        40.767220         -73.985107   \n",
       "27239260        -73.940933        40.744080         -73.932442   \n",
       "2232607         -73.992760        40.742912         -74.004753   \n",
       "33412474        -73.979012        40.765575         -74.008499   \n",
       "31114999        -73.978752        40.785679         -73.993744   \n",
       "\n",
       "          dropoff_latitude  passenger_count  distance  pickup_to_center_dist  \\\n",
       "43211180         40.732491                1  3.862348               6.282433   \n",
       "27239260         40.743553                1  0.717761               6.492984   \n",
       "2232607          40.747952                1  1.155339               3.529324   \n",
       "33412474         40.705063                5  7.172727               6.293475   \n",
       "31114999         40.732674                1  6.027651               8.422553   \n",
       "\n",
       "          dropoff_to_center_dist   direction  year  ...  hour_14  hour_15  \\\n",
       "43211180                2.809587  -88.603241  2013  ...        0        0   \n",
       "27239260                7.079102   -3.547489  2010  ...        0        0   \n",
       "2232607                 3.910081  157.209534  2014  ...        0        0   \n",
       "33412474                0.885744 -115.979851  2010  ...        0        0   \n",
       "31114999                2.439303 -105.792786  2013  ...        0        0   \n",
       "\n",
       "          hour_16  hour_17  hour_18  hour_19  hour_20  hour_21  hour_22  \\\n",
       "43211180        0        0        0        0        0        0        0   \n",
       "27239260        0        0        1        0        0        0        0   \n",
       "2232607         0        0        0        0        0        1        0   \n",
       "33412474        0        0        0        1        0        0        0   \n",
       "31114999        0        0        0        0        0        1        0   \n",
       "\n",
       "          hour_23  \n",
       "43211180        0  \n",
       "27239260        0  \n",
       "2232607         0  \n",
       "33412474        0  \n",
       "31114999        0  \n",
       "\n",
       "[5 rows x 53 columns]"
      ]
     },
     "execution_count": 25,
     "metadata": {},
     "output_type": "execute_result"
    }
   ],
   "source": [
    "X_train.head()"
   ]
  },
  {
   "cell_type": "markdown",
   "metadata": {},
   "source": [
    "Split train set further into train and evaluation set."
   ]
  },
  {
   "cell_type": "code",
   "execution_count": 26,
   "metadata": {},
   "outputs": [],
   "source": [
    "X_train, X_eval, y_train, y_eval = train_test_split(X_train, y_train, test_size=0.2, random_state=210)"
   ]
  },
  {
   "cell_type": "markdown",
   "metadata": {},
   "source": [
    "Scale the features."
   ]
  },
  {
   "cell_type": "code",
   "execution_count": 27,
   "metadata": {},
   "outputs": [],
   "source": [
    "std_scaler = StandardScaler()\n",
    "std_scaler.fit(X_train)\n",
    "\n",
    "X_train = std_scaler.transform(X_train)\n",
    "X_eval = std_scaler.transform(X_eval)\n",
    "X_test = std_scaler.transform(X_test)"
   ]
  },
  {
   "cell_type": "markdown",
   "metadata": {},
   "source": [
    "# Linear regression"
   ]
  },
  {
   "cell_type": "code",
   "execution_count": 28,
   "metadata": {},
   "outputs": [
    {
     "data": {
      "text/plain": [
       "LinearRegression(copy_X=True, fit_intercept=True, n_jobs=None, normalize=False)"
      ]
     },
     "execution_count": 28,
     "metadata": {},
     "output_type": "execute_result"
    }
   ],
   "source": [
    "lr = LinearRegression()\n",
    "lr.fit(X_train, y_train)"
   ]
  },
  {
   "cell_type": "code",
   "execution_count": 29,
   "metadata": {},
   "outputs": [
    {
     "name": "stdout",
     "output_type": "stream",
     "text": [
      "Training RMSE: 4.94890\n"
     ]
    }
   ],
   "source": [
    "y_train_pred = lr.predict(X_train)\n",
    "print(\"Training RMSE: %0.5f\" % np.sqrt(mean_squared_error(y_train, y_train_pred)))"
   ]
  },
  {
   "cell_type": "code",
   "execution_count": 30,
   "metadata": {},
   "outputs": [
    {
     "name": "stdout",
     "output_type": "stream",
     "text": [
      "Evaluation RMSE: 4.95665\n"
     ]
    }
   ],
   "source": [
    "y_eval_pred = lr.predict(X_eval)\n",
    "print(\"Evaluation RMSE: %0.5f\" % np.sqrt(mean_squared_error(y_eval, y_eval_pred)))"
   ]
  },
  {
   "cell_type": "code",
   "execution_count": 38,
   "metadata": {},
   "outputs": [
    {
     "data": {
      "text/html": [
       "<div>\n",
       "<style scoped>\n",
       "    .dataframe tbody tr th:only-of-type {\n",
       "        vertical-align: middle;\n",
       "    }\n",
       "\n",
       "    .dataframe tbody tr th {\n",
       "        vertical-align: top;\n",
       "    }\n",
       "\n",
       "    .dataframe thead th {\n",
       "        text-align: right;\n",
       "    }\n",
       "</style>\n",
       "<table border=\"1\" class=\"dataframe\">\n",
       "  <thead>\n",
       "    <tr style=\"text-align: right;\">\n",
       "      <th></th>\n",
       "      <th>key</th>\n",
       "    </tr>\n",
       "  </thead>\n",
       "  <tbody>\n",
       "    <tr>\n",
       "      <th>0</th>\n",
       "      <td>2015-01-27 13:08:24.0000002</td>\n",
       "    </tr>\n",
       "    <tr>\n",
       "      <th>1</th>\n",
       "      <td>2015-01-27 13:08:24.0000003</td>\n",
       "    </tr>\n",
       "    <tr>\n",
       "      <th>2</th>\n",
       "      <td>2011-10-08 11:53:44.0000002</td>\n",
       "    </tr>\n",
       "    <tr>\n",
       "      <th>3</th>\n",
       "      <td>2012-12-01 21:12:12.0000002</td>\n",
       "    </tr>\n",
       "    <tr>\n",
       "      <th>4</th>\n",
       "      <td>2012-12-01 21:12:12.0000003</td>\n",
       "    </tr>\n",
       "  </tbody>\n",
       "</table>\n",
       "</div>"
      ],
      "text/plain": [
       "                           key\n",
       "0  2015-01-27 13:08:24.0000002\n",
       "1  2015-01-27 13:08:24.0000003\n",
       "2  2011-10-08 11:53:44.0000002\n",
       "3  2012-12-01 21:12:12.0000002\n",
       "4  2012-12-01 21:12:12.0000003"
      ]
     },
     "execution_count": 38,
     "metadata": {},
     "output_type": "execute_result"
    }
   ],
   "source": [
    "pd.DataFrame(test_key.head())"
   ]
  },
  {
   "cell_type": "code",
   "execution_count": 40,
   "metadata": {},
   "outputs": [],
   "source": [
    "def write_submission(test_key, y_test_pred, file_name):\n",
    "    submit = pd.DataFrame(test_key)\n",
    "    submit[\"fare_amount\"] = y_test_pred\n",
    "    submit.to_csv(file_name, index=False)\n",
    "    return None"
   ]
  },
  {
   "cell_type": "code",
   "execution_count": 41,
   "metadata": {},
   "outputs": [],
   "source": [
    "y_test_pred = lr.predict(X_test)\n",
    "write_submission(test_key, y_test_pred, os.path.join(SUB_DIR, \"lr_model.csv\"))"
   ]
  },
  {
   "cell_type": "markdown",
   "metadata": {},
   "source": [
    "# Random forest"
   ]
  },
  {
   "cell_type": "code",
   "execution_count": 46,
   "metadata": {},
   "outputs": [
    {
     "data": {
      "text/plain": [
       "RandomForestRegressor(bootstrap=True, criterion='mse', max_depth=14,\n",
       "                      max_features='auto', max_leaf_nodes=None,\n",
       "                      min_impurity_decrease=0.0, min_impurity_split=None,\n",
       "                      min_samples_leaf=1, min_samples_split=2,\n",
       "                      min_weight_fraction_leaf=0.0, n_estimators=10,\n",
       "                      n_jobs=None, oob_score=False, random_state=None,\n",
       "                      verbose=0, warm_start=False)"
      ]
     },
     "execution_count": 46,
     "metadata": {},
     "output_type": "execute_result"
    }
   ],
   "source": [
    "rf = RandomForestRegressor(n_estimators=10, max_depth=14)\n",
    "rf.fit(X_train, y_train)"
   ]
  },
  {
   "cell_type": "code",
   "execution_count": 47,
   "metadata": {},
   "outputs": [
    {
     "name": "stdout",
     "output_type": "stream",
     "text": [
      "Training RMSE: 3.53756\n"
     ]
    }
   ],
   "source": [
    "y_train_pred = rf.predict(X_train)\n",
    "print(\"Training RMSE: %0.5f\" % np.sqrt(mean_squared_error(y_train, y_train_pred)))"
   ]
  },
  {
   "cell_type": "code",
   "execution_count": 48,
   "metadata": {},
   "outputs": [
    {
     "name": "stdout",
     "output_type": "stream",
     "text": [
      "Evaluation RMSE: 3.83345\n"
     ]
    }
   ],
   "source": [
    "y_eval_pred = rf.predict(X_eval)\n",
    "print(\"Evaluation RMSE: %0.5f\" % np.sqrt(mean_squared_error(y_eval, y_eval_pred)))"
   ]
  },
  {
   "cell_type": "code",
   "execution_count": 49,
   "metadata": {},
   "outputs": [],
   "source": [
    "y_test_pred = rf.predict(X_test)\n",
    "write_submission(test_key, y_test_pred, os.path.join(SUB_DIR, \"rf_model.csv\"))"
   ]
  }
 ],
 "metadata": {
  "kernelspec": {
   "display_name": "Python 3",
   "language": "python",
   "name": "python3"
  },
  "language_info": {
   "codemirror_mode": {
    "name": "ipython",
    "version": 3
   },
   "file_extension": ".py",
   "mimetype": "text/x-python",
   "name": "python",
   "nbconvert_exporter": "python",
   "pygments_lexer": "ipython3",
   "version": "3.7.3"
  }
 },
 "nbformat": 4,
 "nbformat_minor": 2
}
